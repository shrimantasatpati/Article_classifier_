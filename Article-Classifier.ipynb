{
 "cells": [
  {
   "cell_type": "markdown",
   "metadata": {},
   "source": [
    "Importing necessary packages"
   ]
  },
  {
   "cell_type": "code",
   "execution_count": 1,
   "metadata": {},
   "outputs": [],
   "source": [
    "import numpy as np\n",
    "import pandas as pd\n",
    "import os\n",
    "from collections import Counter\n",
    "from sklearn.naive_bayes import MultinomialNB\n",
    "from sklearn.metrics import accuracy_score\n",
    "from sklearn.model_selection import train_test_split"
   ]
  },
  {
   "cell_type": "markdown",
   "metadata": {},
   "source": [
    "Setting up settings of pandas to show number of rows, columns"
   ]
  },
  {
   "cell_type": "code",
   "execution_count": 2,
   "metadata": {},
   "outputs": [],
   "source": [
    "pd.set_option('display.max_rows', 700)\n",
    "pd.set_option('display.max_columns', 500)\n",
    "pd.set_option('display.width', 1000)"
   ]
  },
  {
   "cell_type": "markdown",
   "metadata": {},
   "source": [
    "Importing the dataset"
   ]
  },
  {
   "cell_type": "code",
   "execution_count": 3,
   "metadata": {},
   "outputs": [],
   "source": [
    "data=pd.read_csv('Articles.csv',encoding='ISO-8859-1')"
   ]
  },
  {
   "cell_type": "code",
   "execution_count": 4,
   "metadata": {},
   "outputs": [
    {
     "name": "stdout",
     "output_type": "stream",
     "text": [
      "Number of rows:  2692\n",
      "Number of columns:  4\n"
     ]
    }
   ],
   "source": [
    "print('Number of rows: ',data.shape[0])\n",
    "print('Number of columns: ',data.shape[1])"
   ]
  },
  {
   "cell_type": "code",
   "execution_count": 5,
   "metadata": {},
   "outputs": [
    {
     "name": "stdout",
     "output_type": "stream",
     "text": [
      "Index(['Article', 'Date', 'Heading', 'NewsType'], dtype='object')\n"
     ]
    }
   ],
   "source": [
    "# Printing columns in the data sets\n",
    "print(data.columns)"
   ]
  },
  {
   "cell_type": "code",
   "execution_count": 6,
   "metadata": {},
   "outputs": [
    {
     "name": "stdout",
     "output_type": "stream",
     "text": [
      "sports      1408\n",
      "business    1284\n",
      "Name: NewsType, dtype: int64\n"
     ]
    }
   ],
   "source": [
    "print(data['NewsType'].value_counts())"
   ]
  },
  {
   "cell_type": "markdown",
   "metadata": {},
   "source": [
    "The dataset contains 1408 sports articles and 1284 business articles"
   ]
  },
  {
   "cell_type": "code",
   "execution_count": 7,
   "metadata": {},
   "outputs": [
    {
     "name": "stdout",
     "output_type": "stream",
     "text": [
      "<class 'pandas.core.frame.DataFrame'>\n",
      "RangeIndex: 2692 entries, 0 to 2691\n",
      "Data columns (total 4 columns):\n",
      "Article     2692 non-null object\n",
      "Date        2692 non-null object\n",
      "Heading     2692 non-null object\n",
      "NewsType    2692 non-null object\n",
      "dtypes: object(4)\n",
      "memory usage: 84.2+ KB\n",
      "None\n"
     ]
    }
   ],
   "source": [
    "# Printing some info related to the dataset\n",
    "print(data.info())"
   ]
  },
  {
   "cell_type": "code",
   "execution_count": 8,
   "metadata": {},
   "outputs": [],
   "source": [
    "# removing the date columns since it is not a useful feature to classify articles\n",
    "df=data.drop(columns=['Date'])"
   ]
  },
  {
   "cell_type": "code",
   "execution_count": 9,
   "metadata": {},
   "outputs": [
    {
     "data": {
      "text/html": [
       "<div>\n",
       "<style scoped>\n",
       "    .dataframe tbody tr th:only-of-type {\n",
       "        vertical-align: middle;\n",
       "    }\n",
       "\n",
       "    .dataframe tbody tr th {\n",
       "        vertical-align: top;\n",
       "    }\n",
       "\n",
       "    .dataframe thead th {\n",
       "        text-align: right;\n",
       "    }\n",
       "</style>\n",
       "<table border=\"1\" class=\"dataframe\">\n",
       "  <thead>\n",
       "    <tr style=\"text-align: right;\">\n",
       "      <th></th>\n",
       "      <th>Article</th>\n",
       "      <th>Heading</th>\n",
       "      <th>NewsType</th>\n",
       "    </tr>\n",
       "  </thead>\n",
       "  <tbody>\n",
       "    <tr>\n",
       "      <th>0</th>\n",
       "      <td>KARACHI: The Sindh government has decided to b...</td>\n",
       "      <td>sindh govt decides to cut public transport far...</td>\n",
       "      <td>business</td>\n",
       "    </tr>\n",
       "    <tr>\n",
       "      <th>1</th>\n",
       "      <td>HONG KONG: Asian markets started 2015 on an up...</td>\n",
       "      <td>asia stocks up in new year trad</td>\n",
       "      <td>business</td>\n",
       "    </tr>\n",
       "    <tr>\n",
       "      <th>2</th>\n",
       "      <td>HONG KONG:  Hong Kong shares opened 0.66 perce...</td>\n",
       "      <td>hong kong stocks open 0.66 percent lower</td>\n",
       "      <td>business</td>\n",
       "    </tr>\n",
       "    <tr>\n",
       "      <th>3</th>\n",
       "      <td>HONG KONG: Asian markets tumbled Tuesday follo...</td>\n",
       "      <td>asian stocks sink euro near nine year</td>\n",
       "      <td>business</td>\n",
       "    </tr>\n",
       "    <tr>\n",
       "      <th>4</th>\n",
       "      <td>NEW YORK: US oil prices Monday slipped below $...</td>\n",
       "      <td>us oil prices slip below 50 a barr</td>\n",
       "      <td>business</td>\n",
       "    </tr>\n",
       "  </tbody>\n",
       "</table>\n",
       "</div>"
      ],
      "text/plain": [
       "                                             Article                                            Heading  NewsType\n",
       "0  KARACHI: The Sindh government has decided to b...  sindh govt decides to cut public transport far...  business\n",
       "1  HONG KONG: Asian markets started 2015 on an up...                    asia stocks up in new year trad  business\n",
       "2  HONG KONG:  Hong Kong shares opened 0.66 perce...           hong kong stocks open 0.66 percent lower  business\n",
       "3  HONG KONG: Asian markets tumbled Tuesday follo...             asian stocks sink euro near nine year   business\n",
       "4  NEW YORK: US oil prices Monday slipped below $...                 us oil prices slip below 50 a barr  business"
      ]
     },
     "execution_count": 9,
     "metadata": {},
     "output_type": "execute_result"
    }
   ],
   "source": [
    "df.head()"
   ]
  },
  {
   "cell_type": "code",
   "execution_count": 10,
   "metadata": {},
   "outputs": [],
   "source": [
    "'''This cell collects words in a row of two columns, heading and article, creates a word list\n",
    "and stores it in 'words' list variable'''\n",
    "words=list()\n",
    "arr=[]\n",
    "for i,row in df.iterrows():\n",
    "    temp=row['Heading']+' '+row['Article']\n",
    "    words.append(temp.split(' '))\n",
    "    "
   ]
  },
  {
   "cell_type": "code",
   "execution_count": 11,
   "metadata": {},
   "outputs": [
    {
     "name": "stdout",
     "output_type": "stream",
     "text": [
      "'words' variable contains for example: \n",
      "['sindh', 'govt', 'decides', 'to', 'cut', 'public', 'transport', 'fares', 'by', '7pc', 'kti', 'rej', 'KARACHI:', 'The', 'Sindh', 'government', 'has', 'decided', 'to', 'bring', 'down', 'public', 'transport', 'fares', 'by', '7', 'per', 'cent', 'due', 'to', 'massive', 'reduction', 'in', 'petroleum', 'product', 'prices', 'by', 'the', 'federal', 'government,', 'Geo', 'News', 'reported.Sources', 'said', 'reduction', 'in', 'fares', 'will', 'be', 'applicable', 'on', 'public', 'transport,', 'rickshaw,', 'taxi', 'and', 'other', 'means', 'of', 'traveling.Meanwhile,', 'Karachi', 'Transport', 'Ittehad', '(KTI)', 'has', 'refused', 'to', 'abide', 'by', 'the', 'government', 'decision.KTI', 'President', 'Irshad', 'Bukhari', 'said', 'the', 'commuters', 'are', 'charged', 'the', 'lowest', 'fares', 'in', 'Karachi', 'as', 'compare', 'to', 'other', 'parts', 'of', 'the', 'country,', 'adding', 'that', '80pc', 'vehicles', 'run', 'on', 'Compressed', 'Natural', 'Gas', '(CNG).', 'Bukhari', 'said', 'Karachi', 'transporters', 'will', 'cut', 'fares', 'when', 'decrease', 'in', 'CNG', 'prices', 'will', 'be', 'made.', '', '', '', '', '', '', '', '', '', '', '', '', '', '', '', '', '', '', '', '', '', '', '', '\\r\\n\\r\\n\\r\\n\\r\\n\\r\\n\\r\\n\\r\\n\\r\\n\\r\\n\\r\\n\\r\\n']\n"
     ]
    }
   ],
   "source": [
    "print('\\'words\\' variable contains for example: ')\n",
    "print(words[0])"
   ]
  },
  {
   "cell_type": "code",
   "execution_count": 12,
   "metadata": {},
   "outputs": [],
   "source": [
    "# doing some necessary cleaning in the 'words' list\n",
    "for i in range(len(words)):\n",
    "    for j in range(len(words[i])):\n",
    "        words[i][j]=words[i][j].replace(':','')\n",
    "        if not words[i][j].isalpha():\n",
    "            words[i][j]=''"
   ]
  },
  {
   "cell_type": "code",
   "execution_count": 13,
   "metadata": {},
   "outputs": [],
   "source": [
    "# counting words and storing it in a dictionary format: 'word':'occurence number'\n",
    "words_dict=Counter()\n",
    "for i in range(len(words)):\n",
    "    words_dict+=Counter(words[i])"
   ]
  },
  {
   "cell_type": "code",
   "execution_count": 14,
   "metadata": {},
   "outputs": [
    {
     "data": {
      "text/plain": [
       "collections.Counter"
      ]
     },
     "execution_count": 14,
     "metadata": {},
     "output_type": "execute_result"
    }
   ],
   "source": [
    "type(Counter(words[0]))"
   ]
  },
  {
   "cell_type": "code",
   "execution_count": 15,
   "metadata": {},
   "outputs": [],
   "source": [
    "del words_dict['']\n",
    "#deleting dictionary key where key is ''"
   ]
  },
  {
   "cell_type": "code",
   "execution_count": 16,
   "metadata": {},
   "outputs": [
    {
     "data": {
      "text/plain": [
       "25494"
      ]
     },
     "execution_count": 16,
     "metadata": {},
     "output_type": "execute_result"
    }
   ],
   "source": [
    "len(words_dict)\n",
    "# words_dict contains 25494 key-value pairs"
   ]
  },
  {
   "cell_type": "code",
   "execution_count": 17,
   "metadata": {},
   "outputs": [],
   "source": [
    "# Taking out most common 3500 words out of 25494\n",
    "# we will use these 3500 words to train our model\n",
    "words_dict=words_dict.most_common(3500)"
   ]
  },
  {
   "cell_type": "code",
   "execution_count": 18,
   "metadata": {},
   "outputs": [],
   "source": [
    "# feature engineering\n",
    "features=[]\n",
    "for i in range(len(words)):\n",
    "    t=words[i]\n",
    "    data=[]\n",
    "    for i in words_dict:\n",
    "        data.append(t.count(i[0]))\n",
    "    features.append(data)"
   ]
  },
  {
   "cell_type": "code",
   "execution_count": 19,
   "metadata": {},
   "outputs": [],
   "source": [
    "# Dependent variable 'x'\n",
    "x=np.array(features)"
   ]
  },
  {
   "cell_type": "code",
   "execution_count": 20,
   "metadata": {},
   "outputs": [
    {
     "data": {
      "text/plain": [
       "array([5, 5, 4, ..., 0, 0, 0])"
      ]
     },
     "execution_count": 20,
     "metadata": {},
     "output_type": "execute_result"
    }
   ],
   "source": [
    "x[0]"
   ]
  },
  {
   "cell_type": "code",
   "execution_count": 21,
   "metadata": {},
   "outputs": [
    {
     "data": {
      "text/plain": [
       "(2692, 3500)"
      ]
     },
     "execution_count": 21,
     "metadata": {},
     "output_type": "execute_result"
    }
   ],
   "source": [
    "x.shape"
   ]
  },
  {
   "cell_type": "code",
   "execution_count": 22,
   "metadata": {},
   "outputs": [],
   "source": [
    "# Since we need to predict the class of the article, NewsType will be our target variable\n",
    "df['NewsType']=df['NewsType'].replace({'sports':0,'business':1})\n",
    "\n",
    "target=df['NewsType'].iloc[:].values"
   ]
  },
  {
   "cell_type": "code",
   "execution_count": 23,
   "metadata": {},
   "outputs": [
    {
     "data": {
      "text/plain": [
       "(2692,)"
      ]
     },
     "execution_count": 23,
     "metadata": {},
     "output_type": "execute_result"
    }
   ],
   "source": [
    "target.shape"
   ]
  },
  {
   "cell_type": "code",
   "execution_count": 24,
   "metadata": {},
   "outputs": [],
   "source": [
    "# Target Variable\n",
    "y=np.array(target)"
   ]
  },
  {
   "cell_type": "code",
   "execution_count": 25,
   "metadata": {},
   "outputs": [],
   "source": [
    "classifier=MultinomialNB()"
   ]
  },
  {
   "cell_type": "code",
   "execution_count": 26,
   "metadata": {},
   "outputs": [],
   "source": [
    "x_train,x_test,y_train,y_test=train_test_split(x,y,test_size=0.2,random_state=7)"
   ]
  },
  {
   "cell_type": "code",
   "execution_count": 27,
   "metadata": {},
   "outputs": [
    {
     "data": {
      "text/plain": [
       "MultinomialNB(alpha=1.0, class_prior=None, fit_prior=True)"
      ]
     },
     "execution_count": 27,
     "metadata": {},
     "output_type": "execute_result"
    }
   ],
   "source": [
    "classifier.fit(x_train,y_train)"
   ]
  },
  {
   "cell_type": "code",
   "execution_count": 28,
   "metadata": {},
   "outputs": [],
   "source": [
    "y_pred=classifier.predict(x_test)"
   ]
  },
  {
   "cell_type": "code",
   "execution_count": 29,
   "metadata": {},
   "outputs": [
    {
     "data": {
      "text/plain": [
       "99.25788497217069"
      ]
     },
     "execution_count": 29,
     "metadata": {},
     "output_type": "execute_result"
    }
   ],
   "source": [
    "accuracy_score(y_test,y_pred)*100"
   ]
  },
  {
   "cell_type": "code",
   "execution_count": 30,
   "metadata": {},
   "outputs": [],
   "source": [
    "def checker(heading,body):\n",
    "    \"\"\"Pass a heading, and body of the article to use this function.\n",
    "        Returns whether article is sports or business.\"\"\"\n",
    "    temp=heading+' '+body\n",
    "    t=temp.split(' ')\n",
    "    data=[]\n",
    "    for i in words_dict:\n",
    "        data.append(t.count(i[0]))\n",
    "    ans=classifier.predict(np.array(data).reshape(1,3500))[0]\n",
    "    if ans==0:\n",
    "        return 'sports'\n",
    "    if ans==1:\n",
    "        return 'business'\n",
    "    "
   ]
  },
  {
   "cell_type": "code",
   "execution_count": 31,
   "metadata": {},
   "outputs": [],
   "source": [
    "heading=\"\"\"How To Get Working Capital Loans In India\"\"\"\n",
    "body=\"\"\"The business owners are aware of the fact that sometimes the problem in dealing with the negative cashflow can kill the business and that’s why a small funding can be helpful in resolving short term problems. The working capital loans can help your business to function properly and efficiently. This type of business loan can be one of the simplest methods for protecting the credibility of a company.\n",
    "\n",
    "In this article, we’ve explained how to get working capital loans in India. Read more to learn about eligibility criteria to get business loan, when you should consider this type of loan and which sites can help you get it.\"\"\""
   ]
  },
  {
   "cell_type": "code",
   "execution_count": 32,
   "metadata": {},
   "outputs": [],
   "source": [
    "heading1=\"\"\"Assigning higher risk weights on unrated cos improved repayments: RBI study\"\"\"\n",
    "body1=\"\"\"MUMBAI: A policy shift to insist on higher risk weights on large loans which are unrated has had the desired impact with a shift in borrower behaviour, a Reserve Bank study has found.\n",
    "\n",
    "The RBI had introduced the move in 2016 with a view to nudge banks to have rated exposures.\n",
    "\n",
    "\"In aggregate terms, the change in policy resulted in a 50 percent decline in the treated borrowers' likelihood of switching from rated to unrated categories over quarters,\" an RBI study by Pallavi Chavan a ..\"\"\""
   ]
  },
  {
   "cell_type": "code",
   "execution_count": 33,
   "metadata": {},
   "outputs": [],
   "source": [
    "heading2=\"\"\"Why Pakistan are all but out of the World Cup\"\"\"\n",
    "body2=\"\"\"NEW DELHI: The similarities between Pakistan's World Cup campaigns in 1992 and 2019 have ended. England's thumping victory against New Zealand on Wednesday has ensured that Pakistan have been virtually knocked out of the World Cup semifinal race. Pakistan's semifinal chances are now reduced to just a mathematical possibility, and that too a near impossible one. Sarfaraz Ahmed and his team need an improbable win over Bangladesh to pip New Zealand on net run rate. The road to the knockout stage for Sarfaraz Ahmed and his men is just an improbable mathematical calculation and that too provided Pakistan win the toss and bat first.\n",
    "\n",
    "Currently placed fifth with nine points from eight matches, Pakistan face the challenge of beating Bangladesh by 311 runs if they score 350 or by 316 runs, if they score 400. Just a win for Pakistan will mean they will be tied with New Zealand on 11 points and 5 wins each, but the Kiwis will still be ahead on Net run rate. Pakistan's current Net run rate is -0.79.\n",
    "\n",
    "If Pakistan lose the toss and are asked to field, their minuscule semifinal hopes, will be over even before the first ball is bowled at Lord's.\n",
    "\n",
    "New Zealand finished their league stage engagements at 11 points from nine matches, after their 119-run loss to England. But, despite the massive defeat, the Kiwis are way ahead of Pakistan, in terms of their net run-rate, which is +0.17, compared to Pakistan's -0.79. \"\"\""
   ]
  },
  {
   "cell_type": "code",
   "execution_count": 34,
   "metadata": {},
   "outputs": [],
   "source": [
    "ans=checker(heading1,body1)"
   ]
  },
  {
   "cell_type": "code",
   "execution_count": 35,
   "metadata": {},
   "outputs": [
    {
     "data": {
      "text/plain": [
       "'business'"
      ]
     },
     "execution_count": 35,
     "metadata": {},
     "output_type": "execute_result"
    }
   ],
   "source": [
    "ans"
   ]
  },
  {
   "cell_type": "code",
   "execution_count": null,
   "metadata": {},
   "outputs": [],
   "source": []
  }
 ],
 "metadata": {
  "kernelspec": {
   "display_name": "Python 3",
   "language": "python",
   "name": "python3"
  },
  "language_info": {
   "codemirror_mode": {
    "name": "ipython",
    "version": 3
   },
   "file_extension": ".py",
   "mimetype": "text/x-python",
   "name": "python",
   "nbconvert_exporter": "python",
   "pygments_lexer": "ipython3",
   "version": "3.7.3"
  }
 },
 "nbformat": 4,
 "nbformat_minor": 2
}
